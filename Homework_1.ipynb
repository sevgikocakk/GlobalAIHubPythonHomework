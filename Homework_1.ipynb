{
 "cells": [
  {
   "cell_type": "code",
   "execution_count": 3,
   "metadata": {},
   "outputs": [
    {
     "name": "stdout",
     "output_type": "stream",
     "text": [
      "Please enter a character:Python\n",
      "Type of Value: <class 'str'>\n"
     ]
    }
   ],
   "source": [
    "one = input(\"Please enter a character:\")\n",
    "print(\"Type of Value: {}\".format(type(one)))"
   ]
  },
  {
   "cell_type": "code",
   "execution_count": 4,
   "metadata": {},
   "outputs": [
    {
     "name": "stdout",
     "output_type": "stream",
     "text": [
      "Plase enter a number:25\n",
      "Type of Value: <class 'int'>\n"
     ]
    }
   ],
   "source": [
    "two = int(input(\"Please enter a number:\"))\n",
    "print(f'Type of Value: {type(two)}')"
   ]
  },
  {
   "cell_type": "code",
   "execution_count": 6,
   "metadata": {},
   "outputs": [
    {
     "name": "stdout",
     "output_type": "stream",
     "text": [
      "Please enter a decimal number:1.75\n",
      "Type of Value: <class 'float'>\n"
     ]
    }
   ],
   "source": [
    "three = float(input(\"Please enter a decimal number:\"))\n",
    "print(\"Type of Value: {}\".format(type(three)))"
   ]
  },
  {
   "cell_type": "code",
   "execution_count": 10,
   "metadata": {},
   "outputs": [
    {
     "name": "stdout",
     "output_type": "stream",
     "text": [
      "Please enter a complex number:15j\n",
      "Type Of Value: <class 'complex'>\n"
     ]
    }
   ],
   "source": [
    "four = complex(input(\"Please enter a complex number:\"))\n",
    "print(f'Type of Value: {type(four)}')"
   ]
  },
  {
   "cell_type": "code",
   "execution_count": 17,
   "metadata": {},
   "outputs": [
    {
     "name": "stdout",
     "output_type": "stream",
     "text": [
      "Please enter a number :0\n",
      "Type of Value:<class 'bool'>\n"
     ]
    }
   ],
   "source": [
    "five = bool(input(\"Please enter a number :\"))\n",
    "print(\"Type of Value:{}\".format(type(five)))"
   ]
  }
 ],
 "metadata": {
  "kernelspec": {
   "display_name": "Python 3",
   "language": "python",
   "name": "python3"
  },
  "language_info": {
   "codemirror_mode": {
    "name": "ipython",
    "version": 3
   },
   "file_extension": ".py",
   "mimetype": "text/x-python",
   "name": "python",
   "nbconvert_exporter": "python",
   "pygments_lexer": "ipython3",
   "version": "3.8.5"
  }
 },
 "nbformat": 4,
 "nbformat_minor": 4
}
