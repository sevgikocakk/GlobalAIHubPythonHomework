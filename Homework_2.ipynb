{
 "cells": [
  {
   "cell_type": "code",
   "execution_count": 30,
   "metadata": {},
   "outputs": [
    {
     "name": "stdout",
     "output_type": "stream",
     "text": [
      "First Name: Mehmet\n",
      "Last Name: Atahan\n",
      "Age:19\n",
      "Birth Year:2001\n",
      "Mehmet\n",
      "Atahan\n",
      "19\n",
      "2001\n",
      "You can go out to the street.\n"
     ]
    }
   ],
   "source": [
    "first_name = input(\"First Name: \")\n",
    "last_name = input(\"Last Name: \")\n",
    "age = int(input(\"Age:\"))\n",
    "date_of_birth = int(input(\"Birth Year:\"))\n",
    "\n",
    "list = [first_name,last_name,age,date_of_birth]\n",
    "\n",
    "for k in range(4):\n",
    "    print(list[k])\n",
    "if age <= 18: \n",
    "    print(\"You can't go out because it's too so dangerous!\")\n",
    "else:\n",
    "    print(\"You can go out to the street.\")"
   ]
  }
 ],
 "metadata": {
  "kernelspec": {
   "display_name": "Python 3",
   "language": "python",
   "name": "python3"
  },
  "language_info": {
   "codemirror_mode": {
    "name": "ipython",
    "version": 3
   },
   "file_extension": ".py",
   "mimetype": "text/x-python",
   "name": "python",
   "nbconvert_exporter": "python",
   "pygments_lexer": "ipython3",
   "version": "3.8.5"
  }
 },
 "nbformat": 4,
 "nbformat_minor": 4
}
