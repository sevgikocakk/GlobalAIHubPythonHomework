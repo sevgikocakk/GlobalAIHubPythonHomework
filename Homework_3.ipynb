{
 "cells": [
  {
   "cell_type": "code",
   "execution_count": 30,
   "metadata": {},
   "outputs": [
    {
     "name": "stdout",
     "output_type": "stream",
     "text": [
      "Bir İsim Giriniz: Sevgi\n",
      "\n",
      "Hadi Oynayalım.. SEVGI!\n",
      "- - - - \n",
      "Tahmini Gir: P\n",
      "\n",
      "Yanlış Tahmin, kalan hakkın 4!\n",
      "- - - - \n",
      "Tahmini Gir: r\n",
      "R - - - \n",
      "Tahmini Gir: u\n",
      "R U - - \n",
      "Tahmini Gir: b\n",
      "R U B - \n",
      "Tahmini Gir: Ruby\n",
      "R U B Y \n",
      "Kazandın!\n"
     ]
    }
   ],
   "source": [
    "import random #Random modülümüzü dosyamıza ekledik.\n",
    "\n",
    "def game():# Game adında bir fonsksiyon tanımladık.\n",
    "    name = input(\"Bir İsim Giriniz: \")\n",
    "    name = name.upper()\n",
    "    print(\"\\nHadi Oynayalım.. {}!\".format(name))\n",
    "    \n",
    "    words = [\"Sevgi\",\"Araba\",\"Makine\",\"Robot\",\"Telefon\",\"Dünya\",\"Python\",\"Java\",\"Ruby\"]\n",
    "    for i in words:\n",
    "       words = [i.upper()]\n",
    "    words = random.choice(words)#choice()fonksiyonunu kullanarak dizimizden rastgele öğe seçtik. \n",
    "    guessess = \" \"\n",
    "    \n",
    "    life = 5\n",
    "    while life >0:\n",
    "        fail = 0\n",
    "        for i in words:\n",
    "            if i in guessess:\n",
    "                print(i,end=\" \")\n",
    "            else:\n",
    "                print(\"-\",end=\" \")\n",
    "                fail += 1\n",
    "        if fail == 0:\n",
    "            print(\"\\nKazandın!\")\n",
    "            break\n",
    "        guess = input(\"\\nTahmini Gir: \")\n",
    "        guess = guess.upper()\n",
    "        guessess += guess\n",
    "        if guess not in words:\n",
    "            life -= 1\n",
    "            if life == 0:\n",
    "                print(\"\\nKaybettin,Kelime: {}\".format(words))\n",
    "            else:\n",
    "                print(\"\\nYanlış Tahmin, kalan hakkın {}!\".format(life))\n",
    "\n",
    "game()\n"
   ]
  }
 ],
 "metadata": {
  "kernelspec": {
   "display_name": "Python 3",
   "language": "python",
   "name": "python3"
  },
  "language_info": {
   "codemirror_mode": {
    "name": "ipython",
    "version": 3
   },
   "file_extension": ".py",
   "mimetype": "text/x-python",
   "name": "python",
   "nbconvert_exporter": "python",
   "pygments_lexer": "ipython3",
   "version": "3.8.5"
  }
 },
 "nbformat": 4,
 "nbformat_minor": 4
}
